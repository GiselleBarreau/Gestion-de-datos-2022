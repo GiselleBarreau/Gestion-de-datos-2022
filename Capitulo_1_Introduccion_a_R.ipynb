{
  "nbformat": 4,
  "nbformat_minor": 0,
  "metadata": {
    "colab": {
      "name": "Capitulo 1 - Introduccion a R.ipynb",
      "provenance": [],
      "authorship_tag": "ABX9TyM1/bJd2MyY4QULLNzGtOln",
      "include_colab_link": true
    },
    "kernelspec": {
      "name": "ir",
      "display_name": "R"
    },
    "language_info": {
      "name": "R"
    }
  },
  "cells": [
    {
      "cell_type": "markdown",
      "metadata": {
        "id": "view-in-github",
        "colab_type": "text"
      },
      "source": [
        "<a href=\"https://colab.research.google.com/github/maxigaarp/Gestion-de-datos-2022/blob/main/Capitulo_1_Introduccion_a_R.ipynb\" target=\"_parent\"><img src=\"https://colab.research.google.com/assets/colab-badge.svg\" alt=\"Open In Colab\"/></a>"
      ]
    },
    {
      "cell_type": "markdown",
      "source": [
        ""
      ],
      "metadata": {
        "id": "-qQCz-oQhS0s"
      }
    },
    {
      "cell_type": "markdown",
      "source": [
        "# Introduccion a R\n"
      ],
      "metadata": {
        "id": "YJsWTSR6gyjA"
      }
    },
    {
      "cell_type": "code",
      "metadata": {
        "id": "ZZXsPSNJWljh"
      },
      "source": [
        "5 + 3 # => 8\n",
        "5 - 3 # => 2\n",
        "5 / 2 # => 2.5\n",
        "5 * 2 # => 10\n"
      ],
      "execution_count": null,
      "outputs": []
    },
    {
      "cell_type": "markdown",
      "metadata": {
        "id": "uG8-IlVbb2sP"
      },
      "source": [
        "¿Que casos darian a error?"
      ]
    },
    {
      "cell_type": "markdown",
      "metadata": {
        "id": "h2CRJu5kXhwY"
      },
      "source": [
        "Tambien tenemos otras operaciones basicas \n",
        "\n",
        "*   Logaritmos y exponenciales: **log2**(x), **log10**(x), **exp**(x)\n",
        "*   Funciones trigonometricas: **cos**(x), **sin**(x), **tan**(x), **acos**(x), **asin**(x), **atan**(x)\n",
        "*   Otras funciones matematicas: Factorial (**factorial**(x)), numero combinatorio $\\begin{pmatrix}k\\\\n\\end{pmatrix}$ (**choose**(n,k)), valor absoluto (**abs**(x)), elevar a \"n\" (x\\*\\*n o x^n), raiz cuadrada (**sqrt**(x))\n",
        "\n",
        "\n",
        "\n"
      ]
    },
    {
      "cell_type": "code",
      "metadata": {
        "id": "LO-amXlcXM9V"
      },
      "source": [
        "log2(32) # => 5\n",
        "log10(1000) # => 3\n",
        "exp(1) # e=2.718...\n",
        "\n",
        "pi # =>3.1415...\n",
        "cos(pi) # => -1\n",
        "acos(-1) # arccos(-1) => pi\n",
        "\n",
        "abs(-1) # valor absoluto => -1\n",
        "5**2 # 5^2 => 25\n",
        "sqrt(25) # raiz(25) => 5\n",
        "25^(1/2) # = raiz(25) =>5, mas efectivo\n",
        "factorial(5) # el factorial, 5!\n",
        "choose(5,3) # número combinatorio (5 sobre 3)"
      ],
      "execution_count": null,
      "outputs": []
    },
    {
      "cell_type": "markdown",
      "metadata": {
        "id": "bGtnvDqfcBqm"
      },
      "source": [
        "En R asignamos variables con los simbolos \"<-\""
      ]
    },
    {
      "cell_type": "code",
      "metadata": {
        "id": "hAHlpNiHYJ7-"
      },
      "source": [
        "a <- 4"
      ],
      "execution_count": null,
      "outputs": []
    },
    {
      "cell_type": "code",
      "metadata": {
        "id": "ndbtQ-HbcUhT"
      },
      "source": [
        "a"
      ],
      "execution_count": null,
      "outputs": []
    },
    {
      "cell_type": "markdown",
      "metadata": {
        "id": "WoFfjFpLcbcN"
      },
      "source": [
        "Existen distintos tipos de datos, numericos, caracteres, y logicos"
      ]
    },
    {
      "cell_type": "code",
      "metadata": {
        "id": "0g77hueJcbAv"
      },
      "source": [
        "mi_edad <- 28 # numerico\n",
        "mi_nombre <- \"Maximiliano\" # caracteres\n",
        "#  ¿Eres un cientifico de datos?: (Si/No) <=> (TRUE/FALSE)\n",
        "es_datascientist <- TRUE # logica"
      ],
      "execution_count": null,
      "outputs": []
    },
    {
      "cell_type": "markdown",
      "metadata": {
        "id": "bKHoqI0DgqWP"
      },
      "source": [
        "**Pregunta!**: Puede un dato depender de otro? \n",
        "\n"
      ]
    },
    {
      "cell_type": "markdown",
      "source": [
        "##Tipos de datos (intro)\n",
        "\n",
        "Recordemos la existencia los vectores y los dataframes:"
      ],
      "metadata": {
        "id": "ibJoej3qyE0C"
      }
    },
    {
      "cell_type": "code",
      "source": [
        "#vectores:\n",
        "\n",
        "1:10\n",
        "c(1,2,3,4,5)\n",
        "\n"
      ],
      "metadata": {
        "id": "rUkB2q9LyJd4"
      },
      "execution_count": null,
      "outputs": []
    },
    {
      "cell_type": "code",
      "source": [
        "iris"
      ],
      "metadata": {
        "id": "5aj-khKw2YSB"
      },
      "execution_count": null,
      "outputs": []
    },
    {
      "cell_type": "code",
      "source": [
        "mtcars"
      ],
      "metadata": {
        "id": "GgnCLL552ica"
      },
      "execution_count": null,
      "outputs": []
    },
    {
      "cell_type": "markdown",
      "source": [
        "## Funciones"
      ],
      "metadata": {
        "id": "FqotzeSrhDyI"
      }
    },
    {
      "cell_type": "code",
      "source": [
        "#Encontramos las funciones predefinidas por el sistema \n",
        "\n",
        "notas <- c(4.0, 1.3, 3.8, 2.0)  # Notas de un estudiante\n",
        "mean(notas)"
      ],
      "metadata": {
        "id": "bBrJrRNkhBni"
      },
      "execution_count": null,
      "outputs": []
    },
    {
      "cell_type": "code",
      "execution_count": null,
      "metadata": {
        "id": "GPUcKt2sBhIG"
      },
      "outputs": [],
      "source": [
        "# o podemos crear la nuestra \n",
        "area_cuad <- function(lado1, lado2) {\n",
        "  return(lado1 * lado2)\n",
        "}"
      ]
    },
    {
      "cell_type": "code",
      "source": [
        "area_cuad(lado1 = 4, lado2 = 6)\n"
      ],
      "metadata": {
        "id": "VADFNI1rnoR8"
      },
      "execution_count": null,
      "outputs": []
    },
    {
      "cell_type": "code",
      "source": [
        "area_cuad(lado2 = 6)\n"
      ],
      "metadata": {
        "id": "oEZTINsfoAab"
      },
      "execution_count": null,
      "outputs": []
    },
    {
      "cell_type": "code",
      "source": [
        "# o podemos crear la nuestra \n",
        "area_cuad <- function(lado1=1, lado2) {\n",
        "  lado1 * lado2\n",
        "}"
      ],
      "metadata": {
        "id": "8amc8QcsoMnA"
      },
      "execution_count": null,
      "outputs": []
    },
    {
      "cell_type": "code",
      "source": [
        "area_cuad(lado2 = 6)\n"
      ],
      "metadata": {
        "id": "u3caT2wpoYek"
      },
      "execution_count": null,
      "outputs": []
    },
    {
      "cell_type": "markdown",
      "source": [
        "Probemos con mas de un argumento"
      ],
      "metadata": {
        "id": "D9PdFnYFopsk"
      }
    },
    {
      "cell_type": "code",
      "source": [
        "area_prisma <- function(arista1, arista2, arista3) {\n",
        "  arista1 * arista2 * arista3\n",
        "}"
      ],
      "metadata": {
        "id": "Q1CdQCd3opRN"
      },
      "execution_count": null,
      "outputs": []
    },
    {
      "cell_type": "code",
      "source": [
        "# Probemos la función\n",
        "area_prisma(3, 6, 9)"
      ],
      "metadata": {
        "id": "dAO6RK-TowM9"
      },
      "execution_count": null,
      "outputs": []
    },
    {
      "cell_type": "markdown",
      "source": [
        "Podemos beneficiarnos del codigo que hemos desarrollado en el pasado"
      ],
      "metadata": {
        "id": "JkyvGu2eo0m4"
      }
    },
    {
      "cell_type": "code",
      "source": [
        "area_prisma <- function(arista1, arista2, arista3) {\n",
        "  area_cuad(arista1, arista2) * arista3\n",
        "}\n",
        "\n",
        "# Probemos la función\n",
        "area_prisma(3, 6, 9)"
      ],
      "metadata": {
        "id": "RJ4EocU4oZ3f"
      },
      "execution_count": null,
      "outputs": []
    },
    {
      "cell_type": "markdown",
      "source": [
        "Incluso podemos usar la funcion llamandola dentro de la misma función. Pero para eso necesitamos las estructuras de control.\n"
      ],
      "metadata": {
        "id": "bqi5yfJzr_si"
      }
    },
    {
      "cell_type": "markdown",
      "source": [
        "Ejemplo:\n",
        "\n",
        "Definamos una funcion para crear un histograma como deseamos:\n",
        "\n",
        "* Los datos que serán graficados. (usar funcion hist)\n",
        "* El nombre de la variable graficada\n",
        "* Lineas que indiquen el percentil 5 y 95 de los datos (usar funcion abline)\n",
        "\n",
        "\n",
        "Por lo tanto, nuestros argumentos serán:\n",
        "\n",
        " * datos\n",
        " * nombre"
      ],
      "metadata": {
        "id": "bjurf4mzv5fk"
      }
    },
    {
      "cell_type": "code",
      "source": [
        ""
      ],
      "metadata": {
        "id": "pijn0laKwrsx"
      },
      "execution_count": null,
      "outputs": []
    },
    {
      "cell_type": "code",
      "source": [
        "crear_histograma <- function(datos, nombre) {\n",
        "  media <- mean(datos)\n",
        "  desv_est <- sd(datos)\n",
        "  \n",
        "  hist(datos, main = nombre, xlab = \"Datos\", ylab = \"Frecuencia\", col = \"gold\")\n",
        "  abline(v = media, col = \"red\")\n",
        "  abline(v = media + (desv_est * c(1, -1)), col = \"blue\")\n",
        "}"
      ],
      "metadata": {
        "id": "q6-Xtqe2wpl-"
      },
      "execution_count": null,
      "outputs": []
    },
    {
      "cell_type": "markdown",
      "metadata": {
        "id": "pTe5UwF-JWSN"
      },
      "source": [
        "## Estructuras de control (if-else, for, while)\n"
      ]
    },
    {
      "cell_type": "markdown",
      "metadata": {
        "id": "JPQ7K5UNeqf9"
      },
      "source": [
        "### If-Else\n",
        "La sintaxis de if y else:\n",
        "\n",
        "```\n",
        "if (test_expression) {\n",
        "statement\n",
        "}\n",
        "```\n",
        "\n"
      ]
    },
    {
      "cell_type": "markdown",
      "metadata": {
        "id": "6U41wz9Eeusr"
      },
      "source": [
        "![image.png](data:image/png;base64,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)"
      ]
    },
    {
      "cell_type": "code",
      "metadata": {
        "id": "ldvjd9E3fXaF"
      },
      "source": [
        "x <- -5\n",
        "if(x > 0){\n",
        "  print(\"Non-negative number\")\n",
        "} else {\n",
        "  print(\"Negative number\")\n",
        "}"
      ],
      "execution_count": null,
      "outputs": []
    },
    {
      "cell_type": "markdown",
      "source": [
        "Intentemos calcular los terminos de la secuencia de fibonacci:\n",
        "\n",
        "$$F_1=1, F_2=1, F_n=F_{n-1}+F_{n-2}$$\n"
      ],
      "metadata": {
        "id": "XIH92gf6nIwa"
      }
    },
    {
      "cell_type": "code",
      "source": [
        "fib<-function(n){\n",
        "  if (n==1 | n==2){\n",
        "    return(1)\n",
        "  } \n",
        "  else {\n",
        "    return(fib(n-1)+fib(n-2))\n",
        "  }\n",
        "}"
      ],
      "metadata": {
        "id": "PZVqq_MJo76N"
      },
      "execution_count": null,
      "outputs": []
    },
    {
      "cell_type": "code",
      "source": [
        "for (i in 1:10){\n",
        "  print(fib(i))\n",
        "}"
      ],
      "metadata": {
        "id": "ZdRcTgAzqHk4"
      },
      "execution_count": null,
      "outputs": []
    },
    {
      "cell_type": "markdown",
      "source": [
        "### Comparaciones (operadores relacionales)"
      ],
      "metadata": {
        "id": "E_vnvZClslCW"
      }
    },
    {
      "cell_type": "code",
      "source": [
        "# Comparando objetos\n",
        "x <- 5\n",
        "y <- 20 / 4\n",
        "x == y  # ¿Será x igual a y?"
      ],
      "metadata": {
        "id": "W8a1ercmssNJ"
      },
      "execution_count": null,
      "outputs": []
    },
    {
      "cell_type": "code",
      "source": [
        "# Usando vectores\n",
        "a <- c(1, 3, 2)\n",
        "b <- c(2, 0, 1)\n",
        "a > b  # Comparación término a término"
      ],
      "metadata": {
        "id": "AOYIQONJr67g"
      },
      "execution_count": null,
      "outputs": []
    },
    {
      "cell_type": "markdown",
      "source": [
        "Con esto ya es posible hacer filtros "
      ],
      "metadata": {
        "id": "hf33Rc0Cs_au"
      }
    },
    {
      "cell_type": "code",
      "source": [
        "x <- 1:17  # Se crea el vector\n",
        "x[x >= 12]  # Se solicitan los valores que cumplen la condición"
      ],
      "metadata": {
        "id": "Y15PCRAls9ih"
      },
      "execution_count": null,
      "outputs": []
    },
    {
      "cell_type": "markdown",
      "source": [
        "### Operadores logicos"
      ],
      "metadata": {
        "id": "keoMZxuRtR2j"
      }
    },
    {
      "cell_type": "code",
      "source": [
        "x <- 1:10\n",
        "x"
      ],
      "metadata": {
        "id": "GJMm9rFDtVMe"
      },
      "execution_count": null,
      "outputs": []
    },
    {
      "cell_type": "code",
      "source": [
        "x<=5"
      ],
      "metadata": {
        "id": "yEu6EQ0AtZ54"
      },
      "execution_count": null,
      "outputs": []
    },
    {
      "cell_type": "code",
      "source": [
        "!(x<=5)"
      ],
      "metadata": {
        "id": "lu9e5WNKumIn"
      },
      "execution_count": null,
      "outputs": []
    },
    {
      "cell_type": "code",
      "source": [
        "x%%2==1"
      ],
      "metadata": {
        "id": "jE7e3cjMtd_B"
      },
      "execution_count": null,
      "outputs": []
    },
    {
      "cell_type": "code",
      "source": [
        "(x<=5)&(x%%2==1)"
      ],
      "metadata": {
        "id": "ZwKNHtEGtjIO"
      },
      "execution_count": null,
      "outputs": []
    },
    {
      "cell_type": "code",
      "source": [
        "(x<=5)|(x%%2==1)"
      ],
      "metadata": {
        "id": "E5mOheSKtr5f"
      },
      "execution_count": null,
      "outputs": []
    },
    {
      "cell_type": "code",
      "source": [
        "(x<=5)||(x%%2==1)"
      ],
      "metadata": {
        "id": "ZwEp0nkLtwrq"
      },
      "execution_count": null,
      "outputs": []
    },
    {
      "cell_type": "code",
      "source": [
        "(x<=5)&&(x%%2==1)"
      ],
      "metadata": {
        "id": "cVtouoWEt6S5"
      },
      "execution_count": null,
      "outputs": []
    },
    {
      "cell_type": "markdown",
      "source": [
        "Recordar que las operaciones logicas no son conmutativas siempre"
      ],
      "metadata": {
        "id": "yMBEHp9BuvNe"
      }
    },
    {
      "cell_type": "markdown",
      "metadata": {
        "id": "1nX-hZGfL0ZR"
      },
      "source": [
        "### For\n",
        "Esquema basico del for:"
      ]
    },
    {
      "cell_type": "markdown",
      "metadata": {
        "id": "NaxwDLGsKyFZ"
      },
      "source": [
        "![r-for-loop.jpg](data:image/jpeg;base64,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)\n"
      ]
    },
    {
      "cell_type": "code",
      "metadata": {
        "id": "qYpDR2pxFJ5-"
      },
      "source": [
        "for (i in 1:10){\n",
        "  if (i%%2==0){\n",
        "    s=sprintf(\"hola numero: %d\",i)\n",
        "    print(s)\n",
        "  }\n",
        "}"
      ],
      "execution_count": null,
      "outputs": []
    },
    {
      "cell_type": "code",
      "source": [
        ""
      ],
      "metadata": {
        "id": "mE5xLDDDrHD1"
      },
      "execution_count": null,
      "outputs": []
    },
    {
      "cell_type": "markdown",
      "metadata": {
        "id": "bJrZlGMKMe-n"
      },
      "source": [
        "### While\n",
        "Esquema basico del while"
      ]
    },
    {
      "cell_type": "markdown",
      "metadata": {
        "id": "DdXLrzw2MbbY"
      },
      "source": [
        "![image.png](data:image/png;base64,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)"
      ]
    },
    {
      "cell_type": "code",
      "metadata": {
        "id": "DKOJNAq6I9vo"
      },
      "source": [
        "i <- 1\n",
        "while (i < 6) {\n",
        "  print(i)\n",
        "  i = i+1\n",
        "}"
      ],
      "execution_count": null,
      "outputs": []
    },
    {
      "cell_type": "markdown",
      "metadata": {
        "id": "0zE6tZ5amgFQ"
      },
      "source": [
        "##Vectores\n",
        "\n",
        "Combinacion de multiples datos, numericos, caracteres o logicos.\n",
        "\n",
        "*   Es el tipo de variable más básico del lenguaje R.\n",
        "*   Es una lista ordenada de constantes (números, cadenas de texto entrecomilladas, o lógicos TRUE/FALSE).\n",
        "*   Ideal para albergar muestras univariantes (cuantitativas o cualitativas).\n",
        "*   Si se invoca en la línea de comandos, se imprime en pantalla, por filas, con un indicador de la posición de la componente más a la izquierda de cada fila.\n",
        "*   Indices de un vector x parten del numero 1 hasta el numero length(x)\n",
        "\n",
        "\n",
        "\n",
        "\n",
        "\n",
        "\n",
        "\n"
      ]
    },
    {
      "cell_type": "code",
      "metadata": {
        "id": "VmC7PrIDmfZV"
      },
      "source": [
        "# Create a numeric vector\n",
        "friend_ages <- c(27, 25, 29, 26)\n",
        "mean(friend_ages) # => 26.75\n",
        "max(friend_ages) # => 29\n",
        "friend_ages[1]\n",
        "friend_ages[length(friend_ages)]"
      ],
      "execution_count": null,
      "outputs": []
    },
    {
      "cell_type": "code",
      "metadata": {
        "id": "FQdkBHC23Dxo"
      },
      "source": [
        "1:4"
      ],
      "execution_count": null,
      "outputs": []
    },
    {
      "cell_type": "code",
      "metadata": {
        "id": "TavR-1IL3FK0"
      },
      "source": [
        "2017:2020"
      ],
      "execution_count": null,
      "outputs": []
    },
    {
      "cell_type": "markdown",
      "metadata": {
        "id": "sV3pHdp4pd_k"
      },
      "source": [
        "### Comandos básicos\n",
        "\n",
        "*   Crear un vector: c() para concatenar\n",
        "*   Valores faltantes o nulos: NA (not available) y NaN (not a number).\n",
        "*   Obtener valor en vector: mi_vector[i] para extraer el i-esimo elemento\n",
        "*   Se pueden hacer distintos calculos con vectores: **max**(x), **min**(x), **range**(x):rango de datos (min-max), **length**(x): largo del vector, **sum**(x), **mean**(x), **prod**(x): productoria, **sd**(x): desviacion estandar, **var**(x): varianza, **sort**(x): ordenar.\n",
        "\n",
        "\n",
        "\n",
        "\n",
        "\n",
        "\n"
      ]
    },
    {
      "cell_type": "code",
      "metadata": {
        "id": "hc4U_TTJpbdN"
      },
      "source": [
        ""
      ],
      "execution_count": null,
      "outputs": []
    },
    {
      "cell_type": "markdown",
      "metadata": {
        "id": "znIWDoL4si2D"
      },
      "source": [
        "Prueben las demas funciones sobre los vectores."
      ]
    },
    {
      "cell_type": "markdown",
      "metadata": {
        "id": "l4RNcSr26bsK"
      },
      "source": [
        "## Data frames: \n",
        "\n",
        "Es la estructura ideada para las muestras multivariantes: vectores de datos en columnas. Es decir, como una matriz pero las columnas pueden tener tipos de datos distintos\n",
        "\n",
        "* Cada columna representa una “variable estadística”, y tiene los datos de todos los individuos en dicha “variable estadística”\n",
        "* Cada fila representa un “individuo” u “observación”, y tiene los datos de dicho “individuo” en todas las “variables estadísticas”\n"
      ]
    },
    {
      "cell_type": "code",
      "metadata": {
        "id": "LWxewIst6bFb"
      },
      "source": [
        "# Crear dataframe\n",
        "emp.data <- data.frame(\n",
        "   emp_id = c (1:5), \n",
        "   emp_name = c(\"Patricio\",\"Eduardo\",\"Ricardo\",\"Michelle\",\"Sebastian\"),\n",
        "   salary = c(623.3,515.2,611.0,729.0,843.25), \n",
        "   \n",
        "   start_date = as.Date(c(\"1990-03-11\", \"1994-03-11\", \"2000-03-11\", \"2006-03-11\",\n",
        "      \"2010-03-11\")),\n",
        "   stringsAsFactors = FALSE\n",
        ")\n",
        "\n",
        "emp.data\n"
      ],
      "execution_count": null,
      "outputs": []
    },
    {
      "cell_type": "markdown",
      "metadata": {
        "id": "GPYCZF4JBwM2"
      },
      "source": [
        "Por lo general no vamos a crear una base de datos desde 0, preo no esta de mas saber como se componen."
      ]
    },
    {
      "cell_type": "markdown",
      "metadata": {
        "id": "vRDj_SSY-XFL"
      },
      "source": [
        "### Comandos básicos\n",
        "\n",
        "*   Crear y nombrar un data frame: **data.frame**()\n",
        "*   Chequear y convertir en data frame: **is.data.frame**(), **as.data.frame**()\n",
        "*   Transponer un data frame: **t**()\n",
        "*   Dimensiones de dataframe: **ncol**(), **nrow**(), **dim**()\n",
        "*   Muestra o subgrupo de dataframe: mis_datos[fila, columna], **subset**(), **attach**() y **detach**()\n",
        "*   Extend a data frame: $, **cbind**(), **rbind**()\n",
        "*   Calculos con dataframes numericos: **rowSums**(), **colSums**(), **rowMeans**(), **colMeans**(), **apply**()\n"
      ]
    },
    {
      "cell_type": "code",
      "metadata": {
        "id": "adK3J2rJ-Wah"
      },
      "source": [
        "\n",
        "# Agregar la caracteristica del departamento\n",
        "emp.data$dept <- c(\"IT\",\"Operaciones\",\"IT\",\"RH\",\"Finanzas\")\n",
        "v <- emp.data\n",
        "\n",
        "\n",
        "# Crear segunda dataframe\n",
        "emp.newdata <- \tdata.frame(\n",
        "   emp_id = c (6:7), \n",
        "   emp_name = c(\"Michelle\",\"Sebastian\"),\n",
        "   salary = c(722.5,NaN), \n",
        "   start_date = as.Date(c(\"2014-03-11\",\"2018-03-11\")),\n",
        "   dept = c(\"Operaciones\",\"Finanzas\"),\n",
        "   stringsAsFactors = FALSE\n",
        ")\n",
        "\n",
        "# Unir dos dataframes\n",
        "emp.finaldata <- rbind(emp.data,emp.newdata)\n",
        "emp.finaldata"
      ],
      "execution_count": null,
      "outputs": []
    },
    {
      "cell_type": "markdown",
      "metadata": {
        "id": "Va-DOuBvGajQ"
      },
      "source": [
        "### Otros comandos\n",
        "\n",
        "*   **str**(df): estructura de la tabla\n",
        "*   **names**(df): nombre de las columnas de la tabla\n",
        "*   **rows.name**(df): nombre de las filas, si es que tienen\n",
        "*   **summary**(df): datos basicos de la tabla \n",
        "*   df[ df$dat=='x', ]: filtrar filas segun columna \"dat\" que sea igual a x\n",
        "\n",
        "\n"
      ]
    },
    {
      "cell_type": "code",
      "metadata": {
        "id": "QfbgMyLtHX2V"
      },
      "source": [
        "summary(emp.finaldata)"
      ],
      "execution_count": null,
      "outputs": []
    },
    {
      "cell_type": "code",
      "metadata": {
        "id": "JyIG4aCIILc7"
      },
      "source": [
        "emp.finaldata[emp.finaldata$emp_name==\"Michelle\",]"
      ],
      "execution_count": null,
      "outputs": []
    },
    {
      "cell_type": "markdown",
      "metadata": {
        "id": "6zYtKuJlCszN"
      },
      "source": [
        "## Listas\n",
        "\n",
        "Coleccion de objetos que pueden ser vectores matrices o dataframes\n",
        "* Crear una lista: **list**()\n",
        "* Extender o unir listas: **merge.list**()\n"
      ]
    },
    {
      "cell_type": "code",
      "metadata": {
        "id": "yMKY2NF4CsUC"
      },
      "source": [
        "x<-list(\"a\" = 2.5, \"b\" = TRUE, \"c\" = 1:3)\n",
        "x"
      ],
      "execution_count": null,
      "outputs": []
    },
    {
      "cell_type": "markdown",
      "metadata": {
        "id": "aFEFW0umEXaN"
      },
      "source": [
        "En este caso a, b y c se llaman etiquetas, si no se especifican los indices quedan asignados por defecto"
      ]
    },
    {
      "cell_type": "code",
      "metadata": {
        "id": "4Wgm2w1BB_Gf"
      },
      "source": [
        "list(2.5,TRUE,1:3)"
      ],
      "execution_count": null,
      "outputs": []
    },
    {
      "cell_type": "markdown",
      "metadata": {
        "id": "T5b4LtTGFS-3"
      },
      "source": [
        "* Para modificar y agregar usamos el doble corchete. \n",
        "* Notese que es lo mismo especificar la etiqueta que el indice de la etiqueta. \n",
        "* Borramos registro asignando a null"
      ]
    },
    {
      "cell_type": "code",
      "metadata": {
        "id": "xeJ1RunfFSgV"
      },
      "source": [
        "x[[\"a\"]]<-3\n",
        "x[[2]]<-F\n",
        "x[[3]]<-NULL\n",
        "x"
      ],
      "execution_count": null,
      "outputs": []
    },
    {
      "cell_type": "markdown",
      "source": [
        "¿Qué haria este codigo?"
      ],
      "metadata": {
        "id": "AeJflnt8G_gH"
      }
    },
    {
      "cell_type": "code",
      "source": [
        "\n",
        "my_data <- list()\n",
        "years<-2007:2019\n",
        "for (i in 1:length(years)) {\n",
        "  my_data[[i]] <- read.csv(gsub(\"%\",years[i],\"content/notas_egresados/egresados%.csv\"))\n",
        "}\n"
      ],
      "metadata": {
        "id": "01x0sNxiG-qy"
      },
      "execution_count": null,
      "outputs": []
    },
    {
      "cell_type": "markdown",
      "source": [
        "#Transformaciones de Dataframes"
      ],
      "metadata": {
        "id": "FGMpDSrU4of_"
      }
    },
    {
      "cell_type": "code",
      "source": [
        "tb<- read_csv(\"/content/TB_notifications_2022-05-18.csv\")"
      ],
      "metadata": {
        "id": "C0IuudVM4slu"
      },
      "execution_count": null,
      "outputs": []
    },
    {
      "cell_type": "code",
      "source": [
        "options(repr.matrix.max.cols=150, repr.matrix.max.rows=20)\n"
      ],
      "metadata": {
        "id": "g1R_0Kbm7eJ8"
      },
      "execution_count": null,
      "outputs": []
    },
    {
      "cell_type": "code",
      "source": [
        "tb"
      ],
      "metadata": {
        "id": "KUOtfVET88MF"
      },
      "execution_count": null,
      "outputs": []
    },
    {
      "cell_type": "code",
      "source": [
        "tb1 <- tb %>%\n",
        "  pivot_longer(\n",
        "    cols = new_sp_m04:new_sp_f65, \n",
        "    names_to = \"clave\", \n",
        "    values_to = \"casos\", \n",
        "    values_drop_na = TRUE\n",
        "  )"
      ],
      "metadata": {
        "id": "qfLhlz2s4zH-"
      },
      "execution_count": null,
      "outputs": []
    },
    {
      "cell_type": "code",
      "source": [
        "colnames(tb)"
      ],
      "metadata": {
        "id": "x0vB_IFOCUS9"
      },
      "execution_count": null,
      "outputs": []
    },
    {
      "cell_type": "code",
      "source": [
        "tb %>% select(country,year,  new_sp_m04:new_sp_m65,new_sp_f04:new_sp_f65  ) %>%\n",
        "      pivot_longer(\n",
        "        cols = new_sp_m04:new_sp_f65,\n",
        "        names_to = \"clave\", \n",
        "        values_to = \"valor\", \n",
        "        values_drop_na = TRUE) %>%\n",
        "        separate(clave, c(\"nuevos\", \"tipo\", \"sexo_edad\"),  sep = \"_\")%>%\n",
        "        select(-nuevos) %>%\n",
        "        separate(sexo_edad, c(\"sexo\", \"edad\"), sep = 1) %>%\n",
        "        separate(edad, c(\"edad_inf\", \"edad_sup\"), sep = 2) %>%\n",
        "        transform( edad_inf = as.numeric(edad_inf), \n",
        "               edad_sup = as.numeric(edad_sup))\n",
        "      \n"
      ],
      "metadata": {
        "id": "qRADPNol_Jid"
      },
      "execution_count": null,
      "outputs": []
    },
    {
      "cell_type": "code",
      "source": [
        "'new_sp_m04'"
      ],
      "metadata": {
        "id": "B58BIUMJBbMP"
      },
      "execution_count": null,
      "outputs": []
    },
    {
      "cell_type": "code",
      "source": [
        "acciones <- tibble(\n",
        "  anio = c(2015, 2015, 2015, 2015, 2016, 2016, 2016),\n",
        "  trimestre = c(1, 2, 3, 4, 2, 3, 4),\n",
        "  retorno = c(1.88, 0.59, 0.35, NA, 0.92, 0.17, 2.66)\n",
        ")"
      ],
      "metadata": {
        "id": "fCVAJSLWDLr2"
      },
      "execution_count": null,
      "outputs": []
    },
    {
      "cell_type": "code",
      "source": [
        "acciones"
      ],
      "metadata": {
        "id": "R5bjqotzDMLf"
      },
      "execution_count": null,
      "outputs": []
    },
    {
      "cell_type": "markdown",
      "source": [
        ""
      ],
      "metadata": {
        "id": "VEo9d760D6xY"
      }
    }
  ]
}